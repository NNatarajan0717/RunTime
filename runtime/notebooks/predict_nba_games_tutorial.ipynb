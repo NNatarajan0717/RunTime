{
 "cells": [
  {
   "cell_type": "markdown",
   "id": "b4320795",
   "metadata": {},
   "source": [
    "# Predict NBA Games Tutorial\n",
    "\n",
    "The following is an exploratory notebook for predicting the results of historial NBA games. This notebook follows the tutorial by Vikas Paruchuri of Dataquest, which can be found [here](https://www.youtube.com/watch?v=egTylm6C2is) and in [this repo](https://github.com/dataquestio/project-walkthroughs/tree/master/nba_games).\n",
    "\n",
    "The dataset for this notebook can be found [here](https://www.youtube.com/redirect?event=video_description&redir_token=QUFFLUhqbmpENGkySmZQVzk3Z0VRMkdnOXhJLWw2eUFCd3xBQ3Jtc0trU0RGdUFyd3dQazNjaXJPOVd4NW9xVzhpYUdHLUZ6UEQ2dGUtSnd6S3ZtVC13bnhuZWx4em9QeTZKVm5kNkVUX2F6U2IzTzNCalBoSml5WGt5b09YTlhSN1o0WWZOVThsNGV1NnNwZl9BVW41RWpJdw&q=https%3A%2F%2Fdrive.google.com%2Fuc%3Fexport%3Ddownload%26id%3D1YyNpERG0jqPlpxZvvELaNcMHTiKVpfWe&v=egTylm6C2is) and should be placed in the \"../data/raw/\" directory."
   ]
  },
  {
   "cell_type": "code",
   "execution_count": 1,
   "id": "2fd69330",
   "metadata": {
    "ExecuteTime": {
     "end_time": "2024-02-18T22:23:17.418177300Z",
     "start_time": "2024-02-18T22:23:15.135918400Z"
    }
   },
   "outputs": [
    {
     "name": "stderr",
     "output_type": "stream",
     "text": [
      "C:\\Users\\bryan\\AppData\\Local\\Temp\\ipykernel_24048\\2035458946.py:1: DeprecationWarning: \n",
      "Pyarrow will become a required dependency of pandas in the next major release of pandas (pandas 3.0),\n",
      "(to allow more performant data types, such as the Arrow string type, and better interoperability with other libraries)\n",
      "but was not found to be installed on your system.\n",
      "If this would cause problems for you,\n",
      "please provide us feedback at https://github.com/pandas-dev/pandas/issues/54466\n",
      "        \n",
      "  import pandas as pd\n"
     ]
    }
   ],
   "source": [
    "import pandas as pd"
   ]
  },
  {
   "cell_type": "code",
   "execution_count": 2,
   "id": "f6530f8d",
   "metadata": {
    "ExecuteTime": {
     "end_time": "2024-02-18T22:23:18.558651500Z",
     "start_time": "2024-02-18T22:23:17.384849800Z"
    }
   },
   "outputs": [
    {
     "ename": "FileNotFoundError",
     "evalue": "[Errno 2] No such file or directory: '../data/raw/tutorial_nba_games.csv'",
     "output_type": "error",
     "traceback": [
      "\u001B[1;31m---------------------------------------------------------------------------\u001B[0m",
      "\u001B[1;31mFileNotFoundError\u001B[0m                         Traceback (most recent call last)",
      "Cell \u001B[1;32mIn[2], line 1\u001B[0m\n\u001B[1;32m----> 1\u001B[0m df \u001B[38;5;241m=\u001B[39m \u001B[43mpd\u001B[49m\u001B[38;5;241;43m.\u001B[39;49m\u001B[43mread_csv\u001B[49m\u001B[43m(\u001B[49m\u001B[38;5;124;43m\"\u001B[39;49m\u001B[38;5;124;43m../data/raw/tutorial_nba_games.csv\u001B[39;49m\u001B[38;5;124;43m\"\u001B[39;49m\u001B[43m,\u001B[49m\u001B[43m \u001B[49m\u001B[43mindex_col\u001B[49m\u001B[38;5;241;43m=\u001B[39;49m\u001B[38;5;241;43m0\u001B[39;49m\u001B[43m)\u001B[49m \u001B[38;5;66;03m# read NBA data, first col is our pandas index\u001B[39;00m\n\u001B[0;32m      2\u001B[0m df\n",
      "File \u001B[1;32m~\\AppData\\Local\\Programs\\Python\\Python311\\Lib\\site-packages\\pandas\\io\\parsers\\readers.py:1024\u001B[0m, in \u001B[0;36mread_csv\u001B[1;34m(filepath_or_buffer, sep, delimiter, header, names, index_col, usecols, dtype, engine, converters, true_values, false_values, skipinitialspace, skiprows, skipfooter, nrows, na_values, keep_default_na, na_filter, verbose, skip_blank_lines, parse_dates, infer_datetime_format, keep_date_col, date_parser, date_format, dayfirst, cache_dates, iterator, chunksize, compression, thousands, decimal, lineterminator, quotechar, quoting, doublequote, escapechar, comment, encoding, encoding_errors, dialect, on_bad_lines, delim_whitespace, low_memory, memory_map, float_precision, storage_options, dtype_backend)\u001B[0m\n\u001B[0;32m   1011\u001B[0m kwds_defaults \u001B[38;5;241m=\u001B[39m _refine_defaults_read(\n\u001B[0;32m   1012\u001B[0m     dialect,\n\u001B[0;32m   1013\u001B[0m     delimiter,\n\u001B[1;32m   (...)\u001B[0m\n\u001B[0;32m   1020\u001B[0m     dtype_backend\u001B[38;5;241m=\u001B[39mdtype_backend,\n\u001B[0;32m   1021\u001B[0m )\n\u001B[0;32m   1022\u001B[0m kwds\u001B[38;5;241m.\u001B[39mupdate(kwds_defaults)\n\u001B[1;32m-> 1024\u001B[0m \u001B[38;5;28;01mreturn\u001B[39;00m \u001B[43m_read\u001B[49m\u001B[43m(\u001B[49m\u001B[43mfilepath_or_buffer\u001B[49m\u001B[43m,\u001B[49m\u001B[43m \u001B[49m\u001B[43mkwds\u001B[49m\u001B[43m)\u001B[49m\n",
      "File \u001B[1;32m~\\AppData\\Local\\Programs\\Python\\Python311\\Lib\\site-packages\\pandas\\io\\parsers\\readers.py:618\u001B[0m, in \u001B[0;36m_read\u001B[1;34m(filepath_or_buffer, kwds)\u001B[0m\n\u001B[0;32m    615\u001B[0m _validate_names(kwds\u001B[38;5;241m.\u001B[39mget(\u001B[38;5;124m\"\u001B[39m\u001B[38;5;124mnames\u001B[39m\u001B[38;5;124m\"\u001B[39m, \u001B[38;5;28;01mNone\u001B[39;00m))\n\u001B[0;32m    617\u001B[0m \u001B[38;5;66;03m# Create the parser.\u001B[39;00m\n\u001B[1;32m--> 618\u001B[0m parser \u001B[38;5;241m=\u001B[39m \u001B[43mTextFileReader\u001B[49m\u001B[43m(\u001B[49m\u001B[43mfilepath_or_buffer\u001B[49m\u001B[43m,\u001B[49m\u001B[43m \u001B[49m\u001B[38;5;241;43m*\u001B[39;49m\u001B[38;5;241;43m*\u001B[39;49m\u001B[43mkwds\u001B[49m\u001B[43m)\u001B[49m\n\u001B[0;32m    620\u001B[0m \u001B[38;5;28;01mif\u001B[39;00m chunksize \u001B[38;5;129;01mor\u001B[39;00m iterator:\n\u001B[0;32m    621\u001B[0m     \u001B[38;5;28;01mreturn\u001B[39;00m parser\n",
      "File \u001B[1;32m~\\AppData\\Local\\Programs\\Python\\Python311\\Lib\\site-packages\\pandas\\io\\parsers\\readers.py:1618\u001B[0m, in \u001B[0;36mTextFileReader.__init__\u001B[1;34m(self, f, engine, **kwds)\u001B[0m\n\u001B[0;32m   1615\u001B[0m     \u001B[38;5;28mself\u001B[39m\u001B[38;5;241m.\u001B[39moptions[\u001B[38;5;124m\"\u001B[39m\u001B[38;5;124mhas_index_names\u001B[39m\u001B[38;5;124m\"\u001B[39m] \u001B[38;5;241m=\u001B[39m kwds[\u001B[38;5;124m\"\u001B[39m\u001B[38;5;124mhas_index_names\u001B[39m\u001B[38;5;124m\"\u001B[39m]\n\u001B[0;32m   1617\u001B[0m \u001B[38;5;28mself\u001B[39m\u001B[38;5;241m.\u001B[39mhandles: IOHandles \u001B[38;5;241m|\u001B[39m \u001B[38;5;28;01mNone\u001B[39;00m \u001B[38;5;241m=\u001B[39m \u001B[38;5;28;01mNone\u001B[39;00m\n\u001B[1;32m-> 1618\u001B[0m \u001B[38;5;28mself\u001B[39m\u001B[38;5;241m.\u001B[39m_engine \u001B[38;5;241m=\u001B[39m \u001B[38;5;28;43mself\u001B[39;49m\u001B[38;5;241;43m.\u001B[39;49m\u001B[43m_make_engine\u001B[49m\u001B[43m(\u001B[49m\u001B[43mf\u001B[49m\u001B[43m,\u001B[49m\u001B[43m \u001B[49m\u001B[38;5;28;43mself\u001B[39;49m\u001B[38;5;241;43m.\u001B[39;49m\u001B[43mengine\u001B[49m\u001B[43m)\u001B[49m\n",
      "File \u001B[1;32m~\\AppData\\Local\\Programs\\Python\\Python311\\Lib\\site-packages\\pandas\\io\\parsers\\readers.py:1878\u001B[0m, in \u001B[0;36mTextFileReader._make_engine\u001B[1;34m(self, f, engine)\u001B[0m\n\u001B[0;32m   1876\u001B[0m     \u001B[38;5;28;01mif\u001B[39;00m \u001B[38;5;124m\"\u001B[39m\u001B[38;5;124mb\u001B[39m\u001B[38;5;124m\"\u001B[39m \u001B[38;5;129;01mnot\u001B[39;00m \u001B[38;5;129;01min\u001B[39;00m mode:\n\u001B[0;32m   1877\u001B[0m         mode \u001B[38;5;241m+\u001B[39m\u001B[38;5;241m=\u001B[39m \u001B[38;5;124m\"\u001B[39m\u001B[38;5;124mb\u001B[39m\u001B[38;5;124m\"\u001B[39m\n\u001B[1;32m-> 1878\u001B[0m \u001B[38;5;28mself\u001B[39m\u001B[38;5;241m.\u001B[39mhandles \u001B[38;5;241m=\u001B[39m \u001B[43mget_handle\u001B[49m\u001B[43m(\u001B[49m\n\u001B[0;32m   1879\u001B[0m \u001B[43m    \u001B[49m\u001B[43mf\u001B[49m\u001B[43m,\u001B[49m\n\u001B[0;32m   1880\u001B[0m \u001B[43m    \u001B[49m\u001B[43mmode\u001B[49m\u001B[43m,\u001B[49m\n\u001B[0;32m   1881\u001B[0m \u001B[43m    \u001B[49m\u001B[43mencoding\u001B[49m\u001B[38;5;241;43m=\u001B[39;49m\u001B[38;5;28;43mself\u001B[39;49m\u001B[38;5;241;43m.\u001B[39;49m\u001B[43moptions\u001B[49m\u001B[38;5;241;43m.\u001B[39;49m\u001B[43mget\u001B[49m\u001B[43m(\u001B[49m\u001B[38;5;124;43m\"\u001B[39;49m\u001B[38;5;124;43mencoding\u001B[39;49m\u001B[38;5;124;43m\"\u001B[39;49m\u001B[43m,\u001B[49m\u001B[43m \u001B[49m\u001B[38;5;28;43;01mNone\u001B[39;49;00m\u001B[43m)\u001B[49m\u001B[43m,\u001B[49m\n\u001B[0;32m   1882\u001B[0m \u001B[43m    \u001B[49m\u001B[43mcompression\u001B[49m\u001B[38;5;241;43m=\u001B[39;49m\u001B[38;5;28;43mself\u001B[39;49m\u001B[38;5;241;43m.\u001B[39;49m\u001B[43moptions\u001B[49m\u001B[38;5;241;43m.\u001B[39;49m\u001B[43mget\u001B[49m\u001B[43m(\u001B[49m\u001B[38;5;124;43m\"\u001B[39;49m\u001B[38;5;124;43mcompression\u001B[39;49m\u001B[38;5;124;43m\"\u001B[39;49m\u001B[43m,\u001B[49m\u001B[43m \u001B[49m\u001B[38;5;28;43;01mNone\u001B[39;49;00m\u001B[43m)\u001B[49m\u001B[43m,\u001B[49m\n\u001B[0;32m   1883\u001B[0m \u001B[43m    \u001B[49m\u001B[43mmemory_map\u001B[49m\u001B[38;5;241;43m=\u001B[39;49m\u001B[38;5;28;43mself\u001B[39;49m\u001B[38;5;241;43m.\u001B[39;49m\u001B[43moptions\u001B[49m\u001B[38;5;241;43m.\u001B[39;49m\u001B[43mget\u001B[49m\u001B[43m(\u001B[49m\u001B[38;5;124;43m\"\u001B[39;49m\u001B[38;5;124;43mmemory_map\u001B[39;49m\u001B[38;5;124;43m\"\u001B[39;49m\u001B[43m,\u001B[49m\u001B[43m \u001B[49m\u001B[38;5;28;43;01mFalse\u001B[39;49;00m\u001B[43m)\u001B[49m\u001B[43m,\u001B[49m\n\u001B[0;32m   1884\u001B[0m \u001B[43m    \u001B[49m\u001B[43mis_text\u001B[49m\u001B[38;5;241;43m=\u001B[39;49m\u001B[43mis_text\u001B[49m\u001B[43m,\u001B[49m\n\u001B[0;32m   1885\u001B[0m \u001B[43m    \u001B[49m\u001B[43merrors\u001B[49m\u001B[38;5;241;43m=\u001B[39;49m\u001B[38;5;28;43mself\u001B[39;49m\u001B[38;5;241;43m.\u001B[39;49m\u001B[43moptions\u001B[49m\u001B[38;5;241;43m.\u001B[39;49m\u001B[43mget\u001B[49m\u001B[43m(\u001B[49m\u001B[38;5;124;43m\"\u001B[39;49m\u001B[38;5;124;43mencoding_errors\u001B[39;49m\u001B[38;5;124;43m\"\u001B[39;49m\u001B[43m,\u001B[49m\u001B[43m \u001B[49m\u001B[38;5;124;43m\"\u001B[39;49m\u001B[38;5;124;43mstrict\u001B[39;49m\u001B[38;5;124;43m\"\u001B[39;49m\u001B[43m)\u001B[49m\u001B[43m,\u001B[49m\n\u001B[0;32m   1886\u001B[0m \u001B[43m    \u001B[49m\u001B[43mstorage_options\u001B[49m\u001B[38;5;241;43m=\u001B[39;49m\u001B[38;5;28;43mself\u001B[39;49m\u001B[38;5;241;43m.\u001B[39;49m\u001B[43moptions\u001B[49m\u001B[38;5;241;43m.\u001B[39;49m\u001B[43mget\u001B[49m\u001B[43m(\u001B[49m\u001B[38;5;124;43m\"\u001B[39;49m\u001B[38;5;124;43mstorage_options\u001B[39;49m\u001B[38;5;124;43m\"\u001B[39;49m\u001B[43m,\u001B[49m\u001B[43m \u001B[49m\u001B[38;5;28;43;01mNone\u001B[39;49;00m\u001B[43m)\u001B[49m\u001B[43m,\u001B[49m\n\u001B[0;32m   1887\u001B[0m \u001B[43m\u001B[49m\u001B[43m)\u001B[49m\n\u001B[0;32m   1888\u001B[0m \u001B[38;5;28;01massert\u001B[39;00m \u001B[38;5;28mself\u001B[39m\u001B[38;5;241m.\u001B[39mhandles \u001B[38;5;129;01mis\u001B[39;00m \u001B[38;5;129;01mnot\u001B[39;00m \u001B[38;5;28;01mNone\u001B[39;00m\n\u001B[0;32m   1889\u001B[0m f \u001B[38;5;241m=\u001B[39m \u001B[38;5;28mself\u001B[39m\u001B[38;5;241m.\u001B[39mhandles\u001B[38;5;241m.\u001B[39mhandle\n",
      "File \u001B[1;32m~\\AppData\\Local\\Programs\\Python\\Python311\\Lib\\site-packages\\pandas\\io\\common.py:873\u001B[0m, in \u001B[0;36mget_handle\u001B[1;34m(path_or_buf, mode, encoding, compression, memory_map, is_text, errors, storage_options)\u001B[0m\n\u001B[0;32m    868\u001B[0m \u001B[38;5;28;01melif\u001B[39;00m \u001B[38;5;28misinstance\u001B[39m(handle, \u001B[38;5;28mstr\u001B[39m):\n\u001B[0;32m    869\u001B[0m     \u001B[38;5;66;03m# Check whether the filename is to be opened in binary mode.\u001B[39;00m\n\u001B[0;32m    870\u001B[0m     \u001B[38;5;66;03m# Binary mode does not support 'encoding' and 'newline'.\u001B[39;00m\n\u001B[0;32m    871\u001B[0m     \u001B[38;5;28;01mif\u001B[39;00m ioargs\u001B[38;5;241m.\u001B[39mencoding \u001B[38;5;129;01mand\u001B[39;00m \u001B[38;5;124m\"\u001B[39m\u001B[38;5;124mb\u001B[39m\u001B[38;5;124m\"\u001B[39m \u001B[38;5;129;01mnot\u001B[39;00m \u001B[38;5;129;01min\u001B[39;00m ioargs\u001B[38;5;241m.\u001B[39mmode:\n\u001B[0;32m    872\u001B[0m         \u001B[38;5;66;03m# Encoding\u001B[39;00m\n\u001B[1;32m--> 873\u001B[0m         handle \u001B[38;5;241m=\u001B[39m \u001B[38;5;28;43mopen\u001B[39;49m\u001B[43m(\u001B[49m\n\u001B[0;32m    874\u001B[0m \u001B[43m            \u001B[49m\u001B[43mhandle\u001B[49m\u001B[43m,\u001B[49m\n\u001B[0;32m    875\u001B[0m \u001B[43m            \u001B[49m\u001B[43mioargs\u001B[49m\u001B[38;5;241;43m.\u001B[39;49m\u001B[43mmode\u001B[49m\u001B[43m,\u001B[49m\n\u001B[0;32m    876\u001B[0m \u001B[43m            \u001B[49m\u001B[43mencoding\u001B[49m\u001B[38;5;241;43m=\u001B[39;49m\u001B[43mioargs\u001B[49m\u001B[38;5;241;43m.\u001B[39;49m\u001B[43mencoding\u001B[49m\u001B[43m,\u001B[49m\n\u001B[0;32m    877\u001B[0m \u001B[43m            \u001B[49m\u001B[43merrors\u001B[49m\u001B[38;5;241;43m=\u001B[39;49m\u001B[43merrors\u001B[49m\u001B[43m,\u001B[49m\n\u001B[0;32m    878\u001B[0m \u001B[43m            \u001B[49m\u001B[43mnewline\u001B[49m\u001B[38;5;241;43m=\u001B[39;49m\u001B[38;5;124;43m\"\u001B[39;49m\u001B[38;5;124;43m\"\u001B[39;49m\u001B[43m,\u001B[49m\n\u001B[0;32m    879\u001B[0m \u001B[43m        \u001B[49m\u001B[43m)\u001B[49m\n\u001B[0;32m    880\u001B[0m     \u001B[38;5;28;01melse\u001B[39;00m:\n\u001B[0;32m    881\u001B[0m         \u001B[38;5;66;03m# Binary mode\u001B[39;00m\n\u001B[0;32m    882\u001B[0m         handle \u001B[38;5;241m=\u001B[39m \u001B[38;5;28mopen\u001B[39m(handle, ioargs\u001B[38;5;241m.\u001B[39mmode)\n",
      "\u001B[1;31mFileNotFoundError\u001B[0m: [Errno 2] No such file or directory: '../data/raw/tutorial_nba_games.csv'"
     ]
    }
   ],
   "source": [
    "df = pd.read_csv(\"../data/raw/tutorial_nba_games.csv\", index_col=0) # read NBA data, first col is our pandas index\n",
    "df"
   ]
  },
  {
   "cell_type": "code",
   "execution_count": null,
   "id": "09cf5886",
   "metadata": {
    "ExecuteTime": {
     "end_time": "2024-02-18T22:23:19.048670900Z",
     "start_time": "2024-02-18T22:23:18.564469500Z"
    }
   },
   "outputs": [],
   "source": [
    "df = df.sort_values(\"date\")\n",
    "df = df.reset_index(drop=True) # drop old index\n",
    "df"
   ]
  },
  {
   "cell_type": "code",
   "execution_count": null,
   "id": "d57015b9",
   "metadata": {
    "ExecuteTime": {
     "start_time": "2024-02-18T22:23:18.575434300Z"
    }
   },
   "outputs": [],
   "source": [
    "# Remove extraneous columns\n",
    "del df[\"mp.1\"]\n",
    "del df[\"mp_opp.1\"]\n",
    "del df[\"index_opp\"]\n",
    "df"
   ]
  },
  {
   "cell_type": "code",
   "execution_count": null,
   "id": "57dd5b5f",
   "metadata": {
    "ExecuteTime": {
     "start_time": "2024-02-18T22:23:18.585905400Z"
    }
   },
   "outputs": [],
   "source": [
    "# This adds a \"target\" column to our data frame, which is what we should predict as the outcome of the subsequent game\n",
    "def add_target(team):\n",
    "    new_team_df = team.copy()\n",
    "    new_team_df[\"target\"] = new_team_df[\"won\"].shift(-1)\n",
    "    return new_team_df\n",
    "\n",
    "df = df.groupby(\"team\", group_keys=False).apply(add_target)"
   ]
  },
  {
   "cell_type": "code",
   "execution_count": null,
   "id": "51f17e30",
   "metadata": {
    "ExecuteTime": {
     "start_time": "2024-02-18T22:23:18.595373900Z"
    }
   },
   "outputs": [],
   "source": [
    "df[\"team\"]"
   ]
  },
  {
   "cell_type": "code",
   "execution_count": null,
   "id": "75c52cf7",
   "metadata": {
    "ExecuteTime": {
     "start_time": "2024-02-18T22:23:18.607422700Z"
    }
   },
   "outputs": [],
   "source": [
    "df[df[\"team\"] == \"TOR\"]"
   ]
  },
  {
   "cell_type": "code",
   "execution_count": null,
   "id": "0fbbc0c9",
   "metadata": {
    "ExecuteTime": {
     "start_time": "2024-02-18T22:23:18.621428600Z"
    }
   },
   "outputs": [],
   "source": [
    "df.loc[pd.isnull(df[\"target\"]), \"target\"] = 2"
   ]
  },
  {
   "cell_type": "code",
   "execution_count": null,
   "id": "2293b736",
   "metadata": {
    "ExecuteTime": {
     "start_time": "2024-02-18T22:23:18.631838800Z"
    }
   },
   "outputs": [],
   "source": [
    "df[\"target\"] = df[\"target\"].astype(int, errors=\"ignore\")"
   ]
  },
  {
   "cell_type": "code",
   "execution_count": null,
   "id": "6ba14888",
   "metadata": {
    "ExecuteTime": {
     "start_time": "2024-02-18T22:23:18.645272200Z"
    }
   },
   "outputs": [],
   "source": [
    "# Check our dataset is balanced\n",
    "df[\"won\"].value_counts()"
   ]
  },
  {
   "cell_type": "code",
   "execution_count": null,
   "id": "30ab2808",
   "metadata": {
    "ExecuteTime": {
     "start_time": "2024-02-18T22:23:18.657659400Z"
    }
   },
   "outputs": [],
   "source": [
    "df[\"target\"].value_counts()"
   ]
  },
  {
   "cell_type": "code",
   "execution_count": null,
   "id": "fc8e27b2",
   "metadata": {
    "ExecuteTime": {
     "start_time": "2024-02-18T22:23:18.666433800Z"
    }
   },
   "outputs": [],
   "source": [
    "nulls = pd.isnull(df)"
   ]
  },
  {
   "cell_type": "code",
   "execution_count": null,
   "id": "beb99a69",
   "metadata": {
    "ExecuteTime": {
     "start_time": "2024-02-18T22:23:18.679538300Z"
    }
   },
   "outputs": [],
   "source": [
    "nulls = nulls.sum()"
   ]
  },
  {
   "cell_type": "code",
   "execution_count": null,
   "id": "a70f633f",
   "metadata": {
    "ExecuteTime": {
     "start_time": "2024-02-18T22:23:18.688879800Z"
    }
   },
   "outputs": [],
   "source": [
    "nulls = nulls[nulls > 0]\n",
    "nulls"
   ]
  },
  {
   "cell_type": "code",
   "execution_count": null,
   "id": "fae9ae01",
   "metadata": {
    "ExecuteTime": {
     "start_time": "2024-02-18T22:23:18.697248800Z"
    }
   },
   "outputs": [],
   "source": [
    "valid_columns = df.columns[~df.columns.isin(nulls.index)]\n",
    "valid_columns"
   ]
  },
  {
   "cell_type": "code",
   "execution_count": null,
   "id": "caad3713",
   "metadata": {
    "ExecuteTime": {
     "start_time": "2024-02-18T22:23:18.709412800Z"
    }
   },
   "outputs": [],
   "source": [
    "df = df[valid_columns].copy()"
   ]
  },
  {
   "cell_type": "code",
   "execution_count": null,
   "id": "99379db3",
   "metadata": {
    "ExecuteTime": {
     "start_time": "2024-02-18T22:23:18.724317800Z"
    }
   },
   "outputs": [],
   "source": [
    "df  # should have 142 columns"
   ]
  },
  {
   "cell_type": "code",
   "execution_count": null,
   "id": "b14a6c9d",
   "metadata": {
    "ExecuteTime": {
     "start_time": "2024-02-18T22:23:18.745069Z"
    }
   },
   "outputs": [],
   "source": [
    "from sklearn.model_selection import TimeSeriesSplit\n",
    "from sklearn.feature_selection import SequentialFeatureSelector\n",
    "from sklearn.linear_model import RidgeClassifier\n",
    "\n",
    "rr = RidgeClassifier(alpha=1)\n",
    "split = TimeSeriesSplit(n_splits=3)\n",
    "\n",
    "sfs = SequentialFeatureSelector(rr, n_features_to_select=30, direction=\"forward\", cv=split)"
   ]
  },
  {
   "cell_type": "code",
   "execution_count": null,
   "id": "d46e57a6",
   "metadata": {
    "ExecuteTime": {
     "start_time": "2024-02-18T22:23:18.756724300Z"
    }
   },
   "outputs": [],
   "source": [
    "removed_columns = [\"season\", \"date\", \"won\", \"target\", \"team\", \"team_opp\"]"
   ]
  },
  {
   "cell_type": "code",
   "execution_count": null,
   "id": "7810cbf7",
   "metadata": {
    "ExecuteTime": {
     "start_time": "2024-02-18T22:23:18.764195500Z"
    }
   },
   "outputs": [],
   "source": [
    "selected_columns = df.columns[~df.columns.isin(removed_columns)]"
   ]
  },
  {
   "cell_type": "code",
   "execution_count": null,
   "id": "170a7bfa",
   "metadata": {
    "ExecuteTime": {
     "start_time": "2024-02-18T22:23:18.774017700Z"
    }
   },
   "outputs": [],
   "source": [
    "from sklearn.preprocessing import MinMaxScaler\n",
    "\n",
    "scaler = MinMaxScaler()\n",
    "df[selected_columns] = scaler.fit_transform(df[selected_columns])"
   ]
  },
  {
   "cell_type": "code",
   "execution_count": null,
   "id": "36392ffe",
   "metadata": {
    "ExecuteTime": {
     "start_time": "2024-02-18T22:23:18.786244600Z"
    }
   },
   "outputs": [],
   "source": [
    "df"
   ]
  },
  {
   "cell_type": "code",
   "execution_count": null,
   "id": "23fc995b",
   "metadata": {
    "ExecuteTime": {
     "start_time": "2024-02-18T22:23:18.797039900Z"
    }
   },
   "outputs": [],
   "source": [
    "sfs.fit(df[selected_columns], df[\"target\"])"
   ]
  },
  {
   "cell_type": "code",
   "execution_count": null,
   "id": "c8b00a90",
   "metadata": {
    "ExecuteTime": {
     "start_time": "2024-02-18T22:23:18.807517200Z"
    }
   },
   "outputs": [],
   "source": [
    "predictors = list(selected_columns[sfs.get_support()])"
   ]
  },
  {
   "cell_type": "code",
   "execution_count": null,
   "id": "da899841",
   "metadata": {
    "ExecuteTime": {
     "start_time": "2024-02-18T22:23:18.821485200Z"
    }
   },
   "outputs": [],
   "source": [
    "predictors"
   ]
  },
  {
   "cell_type": "code",
   "execution_count": null,
   "id": "a0c5d631",
   "metadata": {
    "ExecuteTime": {
     "start_time": "2024-02-18T22:23:18.832957400Z"
    }
   },
   "outputs": [],
   "source": [
    "def backtest(data, model, predictors, start=2, step=1):\n",
    "    all_predictions = []\n",
    "    \n",
    "    seasons = sorted(data[\"season\"].unique())\n",
    "    \n",
    "    for i in range(start, len(seasons), step):\n",
    "        season = seasons[i]\n",
    "        \n",
    "        train = data[data[\"season\"] < season]\n",
    "        test = data[data[\"season\"] == season]\n",
    "        \n",
    "        model.fit(train[predictors], train[\"target\"])\n",
    "        \n",
    "        preds = model.predict(test[predictors])\n",
    "        preds = pd.Series(preds , index=test.index)\n",
    "        \n",
    "        combined = pd.concat([test[\"target\"], preds], axis=1)\n",
    "        combined.columns = [\"actual\", \"prediction\"]\n",
    "        \n",
    "        all_predictions.append(combined)\n",
    "    \n",
    "    return pd.concat(all_predictions)"
   ]
  },
  {
   "cell_type": "code",
   "execution_count": null,
   "id": "c4e74dcb",
   "metadata": {
    "ExecuteTime": {
     "start_time": "2024-02-18T22:23:18.847250900Z"
    }
   },
   "outputs": [],
   "source": [
    "predictions = backtest(df, rr, predictors)"
   ]
  },
  {
   "cell_type": "code",
   "execution_count": null,
   "id": "85c02aa8",
   "metadata": {
    "ExecuteTime": {
     "start_time": "2024-02-18T22:23:18.857925600Z"
    }
   },
   "outputs": [],
   "source": [
    "predictions"
   ]
  },
  {
   "cell_type": "code",
   "execution_count": null,
   "id": "ecafd0e8",
   "metadata": {
    "ExecuteTime": {
     "start_time": "2024-02-18T22:23:18.867683800Z"
    }
   },
   "outputs": [],
   "source": [
    "from sklearn.metrics import accuracy_score\n",
    "\n",
    "predictions = predictions[predictions[\"actual\"] != 2]\n",
    "accuracy_score(predictions[\"actual\"], predictions[\"prediction\"])"
   ]
  },
  {
   "cell_type": "code",
   "execution_count": null,
   "id": "9fa88dcd",
   "metadata": {
    "ExecuteTime": {
     "start_time": "2024-02-18T22:23:18.875683900Z"
    }
   },
   "outputs": [],
   "source": [
    "df.groupby(\"home\").apply(lambda x: x[x[\"won\"] == 1].shape[0] / x.shape[0])"
   ]
  },
  {
   "cell_type": "code",
   "execution_count": null,
   "id": "ab5fede4",
   "metadata": {
    "ExecuteTime": {
     "start_time": "2024-02-18T22:23:18.881184100Z"
    }
   },
   "outputs": [],
   "source": [
    "df_rolling = df[list(selected_columns) + [\"won\", \"team\", \"season\"]]"
   ]
  },
  {
   "cell_type": "code",
   "execution_count": null,
   "id": "8af78854",
   "metadata": {
    "ExecuteTime": {
     "start_time": "2024-02-18T22:23:18.888165900Z"
    }
   },
   "outputs": [],
   "source": [
    "df_rolling"
   ]
  },
  {
   "cell_type": "code",
   "execution_count": null,
   "id": "36f58041",
   "metadata": {
    "ExecuteTime": {
     "start_time": "2024-02-18T22:23:18.895167600Z"
    }
   },
   "outputs": [],
   "source": [
    "def find_team_averages(team):\n",
    "    # Calculate rolling mean for numeric columns only\n",
    "    numeric_cols = team.select_dtypes(include='number')\n",
    "    rolling_numeric = numeric_cols.rolling(10).mean()\n",
    "#     # Ensure the order of rows is preserved by combining the numeric rolling means with non-numeric data\n",
    "#     team[numeric_cols.columns] = rolling_numeric\n",
    "    return rolling_numeric\n",
    "\n",
    "# Compute a rolling average of past 10 games, grouped by team and season\n",
    "df_rolling = df_rolling.groupby([\"team\", \"season\"], group_keys=False).apply(find_team_averages)"
   ]
  },
  {
   "cell_type": "code",
   "execution_count": null,
   "id": "3a658d3b",
   "metadata": {
    "ExecuteTime": {
     "start_time": "2024-02-18T22:23:18.900174500Z"
    }
   },
   "outputs": [],
   "source": [
    "df_rolling"
   ]
  },
  {
   "cell_type": "code",
   "execution_count": null,
   "id": "92f88b42",
   "metadata": {
    "ExecuteTime": {
     "start_time": "2024-02-18T22:23:18.906703900Z"
    }
   },
   "outputs": [],
   "source": [
    "rolling_cols = [f\"{col}_10\" for col in df_rolling.columns]\n",
    "df_rolling.columns = rolling_cols\n",
    "\n",
    "df = pd.concat([df, df_rolling], axis=1)"
   ]
  },
  {
   "cell_type": "code",
   "execution_count": null,
   "id": "4c58ea7d",
   "metadata": {
    "ExecuteTime": {
     "start_time": "2024-02-18T22:23:18.910710300Z"
    }
   },
   "outputs": [],
   "source": [
    "df"
   ]
  },
  {
   "cell_type": "code",
   "execution_count": null,
   "id": "c87bea3a",
   "metadata": {
    "ExecuteTime": {
     "start_time": "2024-02-18T22:23:18.915719400Z"
    }
   },
   "outputs": [],
   "source": [
    "df = df.dropna()\n",
    "df"
   ]
  },
  {
   "cell_type": "code",
   "execution_count": null,
   "id": "76783b5e",
   "metadata": {
    "ExecuteTime": {
     "start_time": "2024-02-18T22:23:18.926695500Z"
    }
   },
   "outputs": [],
   "source": [
    "def shift_col(team, col_name):\n",
    "    next_col = team[col_name].shift(-1)\n",
    "    return next_col\n",
    "\n",
    "def add_col(df, col_name):\n",
    "    return df.groupby(\"team\", group_keys=False).apply(lambda x: shift_col(x, col_name))\n",
    "\n",
    "# This will add information about the next future game (if we are the home team, who is the opp, and the date)\n",
    "\n",
    "df[\"home_next\"] = add_col(df, \"home\")\n",
    "df[\"team_opp_next\"] = add_col(df, \"team_opp\")\n",
    "df[\"date_next\"] = add_col(df, \"date\")"
   ]
  },
  {
   "cell_type": "code",
   "execution_count": null,
   "id": "6bbe062c",
   "metadata": {
    "ExecuteTime": {
     "start_time": "2024-02-18T22:23:18.930690300Z"
    }
   },
   "outputs": [],
   "source": [
    "df"
   ]
  },
  {
   "cell_type": "code",
   "execution_count": null,
   "id": "b1aff52f",
   "metadata": {
    "ExecuteTime": {
     "start_time": "2024-02-18T22:23:18.938733100Z"
    }
   },
   "outputs": [],
   "source": [
    "full = df.merge(\n",
    "    df[rolling_cols + [\"team_opp_next\", \"date_next\", \"team\"]], \n",
    "    left_on=[\"team\", \"date_next\"], \n",
    "    right_on=[\"team_opp_next\", \"date_next\"]\n",
    ")"
   ]
  },
  {
   "cell_type": "code",
   "execution_count": null,
   "id": "531ae946",
   "metadata": {
    "ExecuteTime": {
     "start_time": "2024-02-18T22:23:18.943728700Z"
    }
   },
   "outputs": [],
   "source": [
    "full"
   ]
  },
  {
   "cell_type": "code",
   "execution_count": null,
   "id": "b6f55695",
   "metadata": {
    "ExecuteTime": {
     "start_time": "2024-02-18T22:23:18.947728900Z"
    }
   },
   "outputs": [],
   "source": [
    "# Check if the merge worked properly\n",
    "full[[\"team_x\", \"team_opp_next_x\", \"team_y\", \"team_opp_next_y\", \"date_next\"]]"
   ]
  },
  {
   "cell_type": "code",
   "execution_count": null,
   "id": "68547f68",
   "metadata": {
    "ExecuteTime": {
     "start_time": "2024-02-18T22:23:18.954715Z"
    }
   },
   "outputs": [],
   "source": [
    "removed_columns = list(full.columns[full.dtypes == \"object\"]) + removed_columns"
   ]
  },
  {
   "cell_type": "markdown",
   "id": "9db568ab",
   "metadata": {},
   "source": []
  },
  {
   "cell_type": "code",
   "execution_count": null,
   "id": "af01da19",
   "metadata": {
    "ExecuteTime": {
     "start_time": "2024-02-18T22:23:18.961721400Z"
    }
   },
   "outputs": [],
   "source": [
    "removed_columns"
   ]
  },
  {
   "cell_type": "code",
   "execution_count": null,
   "id": "84130bfd",
   "metadata": {
    "ExecuteTime": {
     "start_time": "2024-02-18T22:23:18.968316300Z"
    }
   },
   "outputs": [],
   "source": [
    "selected_columns = full.columns[~full.columns.isin(removed_columns)]"
   ]
  },
  {
   "cell_type": "code",
   "execution_count": null,
   "id": "5af5abf9",
   "metadata": {
    "ExecuteTime": {
     "start_time": "2024-02-18T22:23:18.975275600Z"
    }
   },
   "outputs": [],
   "source": [
    "sfs.fit(full[selected_columns], full[\"target\"])"
   ]
  },
  {
   "cell_type": "code",
   "execution_count": null,
   "id": "4b3e42d2",
   "metadata": {
    "ExecuteTime": {
     "start_time": "2024-02-18T22:23:18.980687Z"
    }
   },
   "outputs": [],
   "source": [
    "predictors = list(selected_columns[sfs.get_support()])"
   ]
  },
  {
   "cell_type": "code",
   "execution_count": null,
   "id": "413672df",
   "metadata": {
    "ExecuteTime": {
     "start_time": "2024-02-18T22:23:18.988103700Z"
    }
   },
   "outputs": [],
   "source": [
    "predictions = backtest(full, rr, predictors)"
   ]
  },
  {
   "cell_type": "code",
   "execution_count": null,
   "id": "1de96556",
   "metadata": {
    "ExecuteTime": {
     "start_time": "2024-02-18T22:23:18.996372200Z"
    }
   },
   "outputs": [],
   "source": [
    "accuracy_score(predictions[\"actual\"], predictions[\"prediction\"])"
   ]
  },
  {
   "cell_type": "code",
   "execution_count": null,
   "id": "e8c133a3",
   "metadata": {
    "ExecuteTime": {
     "start_time": "2024-02-18T22:23:19.004303Z"
    }
   },
   "outputs": [],
   "source": []
  }
 ],
 "metadata": {
  "kernelspec": {
   "display_name": "Python 3 (ipykernel)",
   "language": "python",
   "name": "python3"
  },
  "language_info": {
   "codemirror_mode": {
    "name": "ipython",
    "version": 3
   },
   "file_extension": ".py",
   "mimetype": "text/x-python",
   "name": "python",
   "nbconvert_exporter": "python",
   "pygments_lexer": "ipython3",
   "version": "3.10.4"
  }
 },
 "nbformat": 4,
 "nbformat_minor": 5
}
