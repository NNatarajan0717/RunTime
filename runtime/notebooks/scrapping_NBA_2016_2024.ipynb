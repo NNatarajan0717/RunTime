{
 "cells": [
  {
   "cell_type": "code",
   "execution_count": 95,
   "id": "initial_id",
   "metadata": {
    "collapsed": true,
    "ExecuteTime": {
     "end_time": "2024-02-18T21:47:12.119275200Z",
     "start_time": "2024-02-18T21:47:12.048189Z"
    }
   },
   "outputs": [],
   "source": [
    "import os\n",
    "from bs4 import BeautifulSoup\n",
    "from playwright.async_api import async_playwright, TimeoutError as PlaywrightTimeout\n",
    "import time"
   ]
  },
  {
   "cell_type": "code",
   "outputs": [
    {
     "data": {
      "text/plain": "[2016, 2017, 2018, 2019, 2020, 2021, 2022, 2023]"
     },
     "execution_count": 96,
     "metadata": {},
     "output_type": "execute_result"
    }
   ],
   "source": [
    "SEASONS = list(range(2016, 2024))"
   ],
   "metadata": {
    "collapsed": false,
    "ExecuteTime": {
     "end_time": "2024-02-18T21:47:12.123084200Z",
     "start_time": "2024-02-18T21:47:12.086540Z"
    }
   },
   "id": "bb894620d6fdbdeb",
   "execution_count": 96
  },
  {
   "cell_type": "code",
   "outputs": [],
   "source": [
    "DATA = \"data2\"\n",
    "STANDINGS = os.path.join(DATA, \"standings\")\n",
    "SCORES = os.path.join(DATA, \"scores\")"
   ],
   "metadata": {
    "collapsed": false,
    "ExecuteTime": {
     "end_time": "2024-02-18T21:47:12.207348300Z",
     "start_time": "2024-02-18T21:47:12.133085Z"
    }
   },
   "id": "cf4ba11f9a8ebcb5",
   "execution_count": 97
  },
  {
   "cell_type": "code",
   "outputs": [],
   "source": [
    "async def get_html(url, selector, sleep=5, retries=3):\n",
    "    html = None\n",
    "    \n",
    "    for i in range(1, retries + 1):\n",
    "        #pauses the scrapping, so we don't get banned from the website\n",
    "        time.sleep(sleep*1)\n",
    "        \n",
    "        #actual scrapping\n",
    "        try:\n",
    "            async with async_playwright() as p:\n",
    "                browser = await p.chromium.launch()\n",
    "                page = await browser.new_page()\n",
    "                await page.goto(url)\n",
    "                print(await page.title())\n",
    "                html = await page.inner_html(selector)\n",
    "        except PlaywrightTimeout:\n",
    "            print(\"Timed out on {url}\")\n",
    "            continue\n",
    "        else:\n",
    "            break\n",
    "    return html \n",
    "                \n",
    "        "
   ],
   "metadata": {
    "collapsed": false,
    "ExecuteTime": {
     "end_time": "2024-02-18T21:47:12.229368400Z",
     "start_time": "2024-02-18T21:47:12.187527200Z"
    }
   },
   "id": "543ad8a8c28bdd5a",
   "execution_count": 98
  },
  {
   "cell_type": "code",
   "outputs": [],
   "source": [
    "async def scrape_season(season):\n",
    "    url = f\"https://www.basketball-reference.com/leagues/NBA_{season}_games.html\"\n",
    "    html = await get_html(url, \"#content .filter\")\n",
    "    \n",
    "    soup = BeautifulSoup(html)\n",
    "    links = soup.find_all(\"a\")\n",
    "    standings_pages = [f\"https://www.basketball-reference.com{l['href']}\" for l in links]\n",
    "    \n",
    "    for url in standings_pages:\n",
    "        save_path = os.path.join(STANDINGS, url.split(\"/\")[-1])\n",
    "        if os.path.exists(save_path):\n",
    "            continue\n",
    "        \n",
    "        html = await get_html(url, \"#all_schedule\")\n",
    "        with open(save_path, \"w+\") as f:\n",
    "            f.write(html)"
   ],
   "metadata": {
    "collapsed": false,
    "ExecuteTime": {
     "end_time": "2024-02-18T21:47:12.290349600Z",
     "start_time": "2024-02-18T21:47:12.242641200Z"
    }
   },
   "id": "af534a40b7299566",
   "execution_count": 99
  },
  {
   "cell_type": "code",
   "outputs": [
    {
     "data": {
      "text/plain": "'https://www.basketball-reference.com/leagues/NBA_2023_games.html'"
     },
     "execution_count": 100,
     "metadata": {},
     "output_type": "execute_result"
    }
   ],
   "source": [
    "\n",
    "for season in SEASONS:\n",
    "    await scrape_season(season)"
   ],
   "metadata": {
    "collapsed": false,
    "ExecuteTime": {
     "end_time": "2024-02-18T21:47:12.293351Z",
     "start_time": "2024-02-18T21:47:12.281513400Z"
    }
   },
   "id": "114d99285782a357",
   "execution_count": 100
  },
  {
   "cell_type": "code",
   "outputs": [
    {
     "ename": "NotImplementedError",
     "evalue": "",
     "output_type": "error",
     "traceback": [
      "\u001B[1;31m---------------------------------------------------------------------------\u001B[0m",
      "\u001B[1;31mNotImplementedError\u001B[0m                       Traceback (most recent call last)",
      "Cell \u001B[1;32mIn[101], line 1\u001B[0m\n\u001B[1;32m----> 1\u001B[0m html \u001B[38;5;241m=\u001B[39m \u001B[38;5;28;01mawait\u001B[39;00m get_html(url, \u001B[38;5;124m\"\u001B[39m\u001B[38;5;124m#content .filter\u001B[39m\u001B[38;5;124m\"\u001B[39m)\n",
      "Cell \u001B[1;32mIn[98], line 10\u001B[0m, in \u001B[0;36mget_html\u001B[1;34m(url, selector, sleep, retries)\u001B[0m\n\u001B[0;32m      8\u001B[0m \u001B[38;5;66;03m#actual scrapping\u001B[39;00m\n\u001B[0;32m      9\u001B[0m \u001B[38;5;28;01mtry\u001B[39;00m:\n\u001B[1;32m---> 10\u001B[0m     \u001B[38;5;28;01masync\u001B[39;00m \u001B[38;5;28;01mwith\u001B[39;00m async_playwright() \u001B[38;5;28;01mas\u001B[39;00m p:\n\u001B[0;32m     11\u001B[0m         browser \u001B[38;5;241m=\u001B[39m \u001B[38;5;28;01mawait\u001B[39;00m p\u001B[38;5;241m.\u001B[39mchromium\u001B[38;5;241m.\u001B[39mlaunch()\n\u001B[0;32m     12\u001B[0m         page \u001B[38;5;241m=\u001B[39m \u001B[38;5;28;01mawait\u001B[39;00m browser\u001B[38;5;241m.\u001B[39mnew_page()\n",
      "File \u001B[1;32m~\\AppData\\Local\\Programs\\Python\\Python311\\Lib\\site-packages\\playwright\\async_api\\_context_manager.py:47\u001B[0m, in \u001B[0;36mPlaywrightContextManager.__aenter__\u001B[1;34m(self)\u001B[0m\n\u001B[0;32m     45\u001B[0m \u001B[38;5;28;01mif\u001B[39;00m \u001B[38;5;129;01mnot\u001B[39;00m playwright_future\u001B[38;5;241m.\u001B[39mdone():\n\u001B[0;32m     46\u001B[0m     playwright_future\u001B[38;5;241m.\u001B[39mcancel()\n\u001B[1;32m---> 47\u001B[0m playwright \u001B[38;5;241m=\u001B[39m AsyncPlaywright(\u001B[38;5;28;43mnext\u001B[39;49m\u001B[43m(\u001B[49m\u001B[38;5;28;43miter\u001B[39;49m\u001B[43m(\u001B[49m\u001B[43mdone\u001B[49m\u001B[43m)\u001B[49m\u001B[43m)\u001B[49m\u001B[38;5;241;43m.\u001B[39;49m\u001B[43mresult\u001B[49m\u001B[43m(\u001B[49m\u001B[43m)\u001B[49m)\n\u001B[0;32m     48\u001B[0m playwright\u001B[38;5;241m.\u001B[39mstop \u001B[38;5;241m=\u001B[39m \u001B[38;5;28mself\u001B[39m\u001B[38;5;241m.\u001B[39m\u001B[38;5;21m__aexit__\u001B[39m  \u001B[38;5;66;03m# type: ignore\u001B[39;00m\n\u001B[0;32m     49\u001B[0m \u001B[38;5;28;01mreturn\u001B[39;00m playwright\n",
      "File \u001B[1;32m~\\AppData\\Local\\Programs\\Python\\Python311\\Lib\\asyncio\\futures.py:203\u001B[0m, in \u001B[0;36mFuture.result\u001B[1;34m(self)\u001B[0m\n\u001B[0;32m    201\u001B[0m \u001B[38;5;28mself\u001B[39m\u001B[38;5;241m.\u001B[39m__log_traceback \u001B[38;5;241m=\u001B[39m \u001B[38;5;28;01mFalse\u001B[39;00m\n\u001B[0;32m    202\u001B[0m \u001B[38;5;28;01mif\u001B[39;00m \u001B[38;5;28mself\u001B[39m\u001B[38;5;241m.\u001B[39m_exception \u001B[38;5;129;01mis\u001B[39;00m \u001B[38;5;129;01mnot\u001B[39;00m \u001B[38;5;28;01mNone\u001B[39;00m:\n\u001B[1;32m--> 203\u001B[0m     \u001B[38;5;28;01mraise\u001B[39;00m \u001B[38;5;28mself\u001B[39m\u001B[38;5;241m.\u001B[39m_exception\u001B[38;5;241m.\u001B[39mwith_traceback(\u001B[38;5;28mself\u001B[39m\u001B[38;5;241m.\u001B[39m_exception_tb)\n\u001B[0;32m    204\u001B[0m \u001B[38;5;28;01mreturn\u001B[39;00m \u001B[38;5;28mself\u001B[39m\u001B[38;5;241m.\u001B[39m_result\n",
      "File \u001B[1;32m~\\AppData\\Local\\Programs\\Python\\Python311\\Lib\\site-packages\\playwright\\_impl\\_transport.py:123\u001B[0m, in \u001B[0;36mPipeTransport.connect\u001B[1;34m(self)\u001B[0m\n\u001B[0;32m    120\u001B[0m         startupinfo\u001B[38;5;241m.\u001B[39mdwFlags \u001B[38;5;241m|\u001B[39m\u001B[38;5;241m=\u001B[39m subprocess\u001B[38;5;241m.\u001B[39mSTARTF_USESHOWWINDOW\n\u001B[0;32m    121\u001B[0m         startupinfo\u001B[38;5;241m.\u001B[39mwShowWindow \u001B[38;5;241m=\u001B[39m subprocess\u001B[38;5;241m.\u001B[39mSW_HIDE\n\u001B[1;32m--> 123\u001B[0m     \u001B[38;5;28mself\u001B[39m\u001B[38;5;241m.\u001B[39m_proc \u001B[38;5;241m=\u001B[39m \u001B[38;5;28;01mawait\u001B[39;00m asyncio\u001B[38;5;241m.\u001B[39mcreate_subprocess_exec(\n\u001B[0;32m    124\u001B[0m         \u001B[38;5;28mstr\u001B[39m(\u001B[38;5;28mself\u001B[39m\u001B[38;5;241m.\u001B[39m_driver_executable),\n\u001B[0;32m    125\u001B[0m         \u001B[38;5;124m\"\u001B[39m\u001B[38;5;124mrun-driver\u001B[39m\u001B[38;5;124m\"\u001B[39m,\n\u001B[0;32m    126\u001B[0m         stdin\u001B[38;5;241m=\u001B[39masyncio\u001B[38;5;241m.\u001B[39msubprocess\u001B[38;5;241m.\u001B[39mPIPE,\n\u001B[0;32m    127\u001B[0m         stdout\u001B[38;5;241m=\u001B[39masyncio\u001B[38;5;241m.\u001B[39msubprocess\u001B[38;5;241m.\u001B[39mPIPE,\n\u001B[0;32m    128\u001B[0m         stderr\u001B[38;5;241m=\u001B[39m_get_stderr_fileno(),\n\u001B[0;32m    129\u001B[0m         limit\u001B[38;5;241m=\u001B[39m\u001B[38;5;241m32768\u001B[39m,\n\u001B[0;32m    130\u001B[0m         env\u001B[38;5;241m=\u001B[39menv,\n\u001B[0;32m    131\u001B[0m         startupinfo\u001B[38;5;241m=\u001B[39mstartupinfo,\n\u001B[0;32m    132\u001B[0m     )\n\u001B[0;32m    133\u001B[0m \u001B[38;5;28;01mexcept\u001B[39;00m \u001B[38;5;167;01mException\u001B[39;00m \u001B[38;5;28;01mas\u001B[39;00m exc:\n\u001B[0;32m    134\u001B[0m     \u001B[38;5;28mself\u001B[39m\u001B[38;5;241m.\u001B[39mon_error_future\u001B[38;5;241m.\u001B[39mset_exception(exc)\n",
      "File \u001B[1;32m~\\AppData\\Local\\Programs\\Python\\Python311\\Lib\\asyncio\\subprocess.py:218\u001B[0m, in \u001B[0;36mcreate_subprocess_exec\u001B[1;34m(program, stdin, stdout, stderr, limit, *args, **kwds)\u001B[0m\n\u001B[0;32m    215\u001B[0m loop \u001B[38;5;241m=\u001B[39m events\u001B[38;5;241m.\u001B[39mget_running_loop()\n\u001B[0;32m    216\u001B[0m protocol_factory \u001B[38;5;241m=\u001B[39m \u001B[38;5;28;01mlambda\u001B[39;00m: SubprocessStreamProtocol(limit\u001B[38;5;241m=\u001B[39mlimit,\n\u001B[0;32m    217\u001B[0m                                                     loop\u001B[38;5;241m=\u001B[39mloop)\n\u001B[1;32m--> 218\u001B[0m transport, protocol \u001B[38;5;241m=\u001B[39m \u001B[38;5;28;01mawait\u001B[39;00m loop\u001B[38;5;241m.\u001B[39msubprocess_exec(\n\u001B[0;32m    219\u001B[0m     protocol_factory,\n\u001B[0;32m    220\u001B[0m     program, \u001B[38;5;241m*\u001B[39margs,\n\u001B[0;32m    221\u001B[0m     stdin\u001B[38;5;241m=\u001B[39mstdin, stdout\u001B[38;5;241m=\u001B[39mstdout,\n\u001B[0;32m    222\u001B[0m     stderr\u001B[38;5;241m=\u001B[39mstderr, \u001B[38;5;241m*\u001B[39m\u001B[38;5;241m*\u001B[39mkwds)\n\u001B[0;32m    223\u001B[0m \u001B[38;5;28;01mreturn\u001B[39;00m Process(transport, protocol, loop)\n",
      "File \u001B[1;32m~\\AppData\\Local\\Programs\\Python\\Python311\\Lib\\asyncio\\base_events.py:1680\u001B[0m, in \u001B[0;36mBaseEventLoop.subprocess_exec\u001B[1;34m(self, protocol_factory, program, stdin, stdout, stderr, universal_newlines, shell, bufsize, encoding, errors, text, *args, **kwargs)\u001B[0m\n\u001B[0;32m   1678\u001B[0m     debug_log \u001B[38;5;241m=\u001B[39m \u001B[38;5;124mf\u001B[39m\u001B[38;5;124m'\u001B[39m\u001B[38;5;124mexecute program \u001B[39m\u001B[38;5;132;01m{\u001B[39;00mprogram\u001B[38;5;132;01m!r}\u001B[39;00m\u001B[38;5;124m'\u001B[39m\n\u001B[0;32m   1679\u001B[0m     \u001B[38;5;28mself\u001B[39m\u001B[38;5;241m.\u001B[39m_log_subprocess(debug_log, stdin, stdout, stderr)\n\u001B[1;32m-> 1680\u001B[0m transport \u001B[38;5;241m=\u001B[39m \u001B[38;5;28;01mawait\u001B[39;00m \u001B[38;5;28mself\u001B[39m\u001B[38;5;241m.\u001B[39m_make_subprocess_transport(\n\u001B[0;32m   1681\u001B[0m     protocol, popen_args, \u001B[38;5;28;01mFalse\u001B[39;00m, stdin, stdout, stderr,\n\u001B[0;32m   1682\u001B[0m     bufsize, \u001B[38;5;241m*\u001B[39m\u001B[38;5;241m*\u001B[39mkwargs)\n\u001B[0;32m   1683\u001B[0m \u001B[38;5;28;01mif\u001B[39;00m \u001B[38;5;28mself\u001B[39m\u001B[38;5;241m.\u001B[39m_debug \u001B[38;5;129;01mand\u001B[39;00m debug_log \u001B[38;5;129;01mis\u001B[39;00m \u001B[38;5;129;01mnot\u001B[39;00m \u001B[38;5;28;01mNone\u001B[39;00m:\n\u001B[0;32m   1684\u001B[0m     logger\u001B[38;5;241m.\u001B[39minfo(\u001B[38;5;124m'\u001B[39m\u001B[38;5;132;01m%s\u001B[39;00m\u001B[38;5;124m: \u001B[39m\u001B[38;5;132;01m%r\u001B[39;00m\u001B[38;5;124m'\u001B[39m, debug_log, transport)\n",
      "File \u001B[1;32m~\\AppData\\Local\\Programs\\Python\\Python311\\Lib\\asyncio\\base_events.py:502\u001B[0m, in \u001B[0;36mBaseEventLoop._make_subprocess_transport\u001B[1;34m(self, protocol, args, shell, stdin, stdout, stderr, bufsize, extra, **kwargs)\u001B[0m\n\u001B[0;32m    498\u001B[0m \u001B[38;5;28;01masync\u001B[39;00m \u001B[38;5;28;01mdef\u001B[39;00m \u001B[38;5;21m_make_subprocess_transport\u001B[39m(\u001B[38;5;28mself\u001B[39m, protocol, args, shell,\n\u001B[0;32m    499\u001B[0m                                      stdin, stdout, stderr, bufsize,\n\u001B[0;32m    500\u001B[0m                                      extra\u001B[38;5;241m=\u001B[39m\u001B[38;5;28;01mNone\u001B[39;00m, \u001B[38;5;241m*\u001B[39m\u001B[38;5;241m*\u001B[39mkwargs):\n\u001B[0;32m    501\u001B[0m \u001B[38;5;250m    \u001B[39m\u001B[38;5;124;03m\"\"\"Create subprocess transport.\"\"\"\u001B[39;00m\n\u001B[1;32m--> 502\u001B[0m     \u001B[38;5;28;01mraise\u001B[39;00m \u001B[38;5;167;01mNotImplementedError\u001B[39;00m\n",
      "\u001B[1;31mNotImplementedError\u001B[0m: "
     ]
    }
   ],
   "source": [
    "html = await get_html(url, \"#content .filter\")"
   ],
   "metadata": {
    "collapsed": false,
    "ExecuteTime": {
     "end_time": "2024-02-18T21:47:17.374090100Z",
     "start_time": "2024-02-18T21:47:12.304941200Z"
    }
   },
   "id": "1d88dd818970b133",
   "execution_count": 101
  },
  {
   "cell_type": "code",
   "outputs": [],
   "source": [
    "soup = BeautifulSoup(html)\n",
    "links = soup.find_all(\"a\")\n",
    "href = [l[\"href\"] for l in links]\n",
    "standings_pages = [f\"https://www.basketball-reference.com{l}\" for l in href]"
   ],
   "metadata": {
    "collapsed": false,
    "ExecuteTime": {
     "end_time": "2024-02-18T21:47:17.390641900Z",
     "start_time": "2024-02-18T21:47:17.378082200Z"
    }
   },
   "id": "a8a21d294c9f6376",
   "execution_count": null
  },
  {
   "cell_type": "code",
   "outputs": [],
   "source": [
    "href"
   ],
   "metadata": {
    "collapsed": false,
    "ExecuteTime": {
     "start_time": "2024-02-18T21:47:17.385533600Z"
    }
   },
   "id": "9686eca0ca6f2aa",
   "execution_count": null
  },
  {
   "cell_type": "code",
   "outputs": [],
   "source": [],
   "metadata": {
    "collapsed": false,
    "ExecuteTime": {
     "start_time": "2024-02-18T21:47:17.389636200Z"
    }
   },
   "id": "5f2aebfd2a7b5673"
  }
 ],
 "metadata": {
  "kernelspec": {
   "display_name": "Python 3",
   "language": "python",
   "name": "python3"
  },
  "language_info": {
   "codemirror_mode": {
    "name": "ipython",
    "version": 2
   },
   "file_extension": ".py",
   "mimetype": "text/x-python",
   "name": "python",
   "nbconvert_exporter": "python",
   "pygments_lexer": "ipython2",
   "version": "2.7.6"
  }
 },
 "nbformat": 4,
 "nbformat_minor": 5
}
